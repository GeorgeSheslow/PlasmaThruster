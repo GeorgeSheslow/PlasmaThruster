{
 "cells": [
  {
   "cell_type": "markdown",
   "id": "96c11a1d",
   "metadata": {},
   "source": [
    "The following document details the communication interface to the power system designed for the rail-type pulsed plasma thruster\n",
    "Current features include:\n",
    "    - Cathode capacitor voltage modification\n",
    "    - Trigger capacitor voltage modification\n",
    "    - Trigger duration (us) modification\n",
    "    - Fire (charge + discharge) of the Thruster\n",
    "    - Fire Trigger (charge + discharge) of the trigger only\n",
    "    - Trigger test to test the trigger output\n",
    "    - Cathode capacitor charge\n",
    "    - Trigger capacitor charge \n",
    "    - aliveness check (\"ping\")\n",
    "\n",
    "This functionality has been wrapped up into a class and handles all the communication overhead as well as error return values\n",
    "\n",
    "The first step is to create an instance of the class and connect to the power system using a serial comm port\n",
    "Check your device manager to identify which port you are using (modify the code as needed)\n",
    "The \"ping\" command checks if the power system is turned on and alive."
   ]
  },
  {
   "cell_type": "code",
   "execution_count": null,
   "id": "52e8a39d",
   "metadata": {
    "vscode": {
     "languageId": "plaintext"
    }
   },
   "outputs": [],
   "source": [
    "from thruster import ThrusterInterface\n",
    "import time\n",
    "\n",
    "thruster = ThrusterInterface(\"COM10\")\n",
    "\n",
    "print(\"Pinging thruster: \", thruster.ping(), \"\\n\")"
   ]
  },
  {
   "cell_type": "markdown",
   "id": "07db1d97",
   "metadata": {},
   "source": [
    "Next Parameters by default on power up are set to 0,\n",
    "Thus they need to be modified to the user's desired values before firing."
   ]
  },
  {
   "cell_type": "code",
   "execution_count": null,
   "id": "e0d75b2a",
   "metadata": {
    "vscode": {
     "languageId": "plaintext"
    }
   },
   "outputs": [],
   "source": [
    "cathode_voltage = 400\n",
    "trigger_voltage = 350\n",
    "trigger_duration = 10 #us\n",
    "print(\"Setting trigger duration to: \", trigger_duration \" :\", thruster.set_trigger_duration(trigger_duration))\n",
    "print(\"Setting trigger voltage to: \", trigger_voltage, \" :\", thruster.set_trigger_voltage(trigger_voltage))\n",
    "print(\"Setting main capacitor voltage to: \", trigger_voltage,\" :\",thruster.set_main_cap_voltage(400))\n",
    "print(\"\\n\")"
   ]
  },
  {
   "cell_type": "markdown",
   "id": "aa8022d7",
   "metadata": {},
   "source": [
    "These parameters can be checked using the read functions within the class"
   ]
  },
  {
   "cell_type": "code",
   "execution_count": null,
   "id": "4f724697",
   "metadata": {
    "vscode": {
     "languageId": "plaintext"
    }
   },
   "outputs": [],
   "source": [
    "print(\"Reading trigger duration: \", thruster.read_trigger_duration())\n",
    "print(\"Reading trigger resistance: \", thruster.read_trigger_resistance())\n",
    "print(\"Reading main capacitor resistance: \", thruster.read_main_cap_resistance())\n",
    "print(\"\\n\")"
   ]
  },
  {
   "cell_type": "markdown",
   "id": "09c855c6",
   "metadata": {},
   "source": [
    "Now that the configuration has been uploaded and checked, \n",
    "operation of the thruster can begin.\n",
    "Below are all the commands that can be sent"
   ]
  },
  {
   "cell_type": "code",
   "execution_count": null,
   "id": "62f0aebd",
   "metadata": {
    "vscode": {
     "languageId": "plaintext"
    }
   },
   "outputs": [],
   "source": [
    "print(\"Charging Main Capacitor: \", thruster.main_cap_charge())"
   ]
  },
  {
   "cell_type": "code",
   "execution_count": null,
   "id": "463af931",
   "metadata": {
    "vscode": {
     "languageId": "plaintext"
    }
   },
   "outputs": [],
   "source": [
    "print(\"Charging Trigger Capacitor: \", thruster.trigger_cap_charge())"
   ]
  },
  {
   "cell_type": "code",
   "execution_count": null,
   "id": "3b7c5c8e",
   "metadata": {
    "vscode": {
     "languageId": "plaintext"
    }
   },
   "outputs": [],
   "source": [
    "print(\"Firing Trigger: \", thruster.trigger_fire())"
   ]
  },
  {
   "cell_type": "code",
   "execution_count": null,
   "id": "d7247d77",
   "metadata": {
    "vscode": {
     "languageId": "plaintext"
    }
   },
   "outputs": [],
   "source": [
    "print(\"Firing Thruster: \", thruster.fire())"
   ]
  }
 ],
 "metadata": {
  "language_info": {
   "name": "python"
  }
 },
 "nbformat": 4,
 "nbformat_minor": 5
}
